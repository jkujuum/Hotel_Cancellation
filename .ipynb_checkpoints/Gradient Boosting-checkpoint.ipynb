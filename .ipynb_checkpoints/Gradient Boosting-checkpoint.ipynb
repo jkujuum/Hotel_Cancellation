{
 "cells": [
  {
   "cell_type": "code",
   "execution_count": 1,
   "metadata": {},
   "outputs": [],
   "source": [
    "# Load all packages\n",
    "import os\n",
    "import pandas as pd\n",
    "import datetime\n",
    "import seaborn as sns\n",
    "import matplotlib.pyplot as plt\n",
    "import numpy as np\n",
    "from IPython.display import Image\n",
    "from sklearn.model_selection import train_test_split, cross_val_score, GridSearchCV\n",
    "from sklearn.preprocessing import OneHotEncoder\n",
    "from sklearn.ensemble import GradientBoostingClassifier\n",
    "from sklearn.metrics import *\n",
    "from sklearn.model_selection import GridSearchCV\n",
    "%matplotlib inline"
   ]
  },
  {
   "cell_type": "markdown",
   "metadata": {},
   "source": [
    "### Load the data"
   ]
  },
  {
   "cell_type": "code",
   "execution_count": 2,
   "metadata": {},
   "outputs": [],
   "source": [
    "hotel = pd.read_csv('D:\\Jupyter_Notebook\\Hotel_Demand\\data\\hotel_featured.csv')"
   ]
  },
  {
   "cell_type": "markdown",
   "metadata": {},
   "source": [
    "### Split data into training and testing subsets"
   ]
  },
  {
   "cell_type": "code",
   "execution_count": 3,
   "metadata": {},
   "outputs": [],
   "source": [
    "X = hotel.drop(columns=['is_canceled'])\n",
    "y = hotel['is_canceled']"
   ]
  },
  {
   "cell_type": "code",
   "execution_count": 4,
   "metadata": {},
   "outputs": [],
   "source": [
    "from sklearn.model_selection import train_test_split\n",
    "X_train, X_test, y_train, y_test = train_test_split(X, y, test_size=.2, random_state=1)"
   ]
  },
  {
   "cell_type": "code",
   "execution_count": 5,
   "metadata": {},
   "outputs": [],
   "source": [
    "# Use MinMaxScaler to scale data into range (0,1), not using StandardScale here because many columns should not contain negative values\n",
    "from sklearn import preprocessing\n",
    "import numpy as np\n",
    "\n",
    "scaler = preprocessing.MinMaxScaler().fit(X_train)\n",
    "X_train=scaler.transform(X_train) \n",
    "X_train = pd.DataFrame(X_train,columns=X.columns)\n",
    "\n",
    "X_test=scaler.transform(X_test)\n",
    "X_test = pd.DataFrame(X_test,columns=X.columns)"
   ]
  },
  {
   "cell_type": "markdown",
   "metadata": {},
   "source": [
    "### Modeling"
   ]
  },
  {
   "cell_type": "code",
   "execution_count": 6,
   "metadata": {},
   "outputs": [],
   "source": [
    "from sklearn.model_selection import GridSearchCV\n",
    "import lightgbm\n",
    "from bayes_opt import BayesianOptimization\n",
    "import warnings\n",
    "warnings.filterwarnings('ignore')"
   ]
  },
  {
   "cell_type": "code",
   "execution_count": 7,
   "metadata": {},
   "outputs": [],
   "source": [
    "params = {'num_leaves': 31, 'objective': 'binary'}\n",
    "params['metric'] = 'auc'"
   ]
  },
  {
   "cell_type": "code",
   "execution_count": 8,
   "metadata": {},
   "outputs": [],
   "source": [
    "num_round = 10\n",
    "lgtrain = lightgbm.Dataset(X_train, y_train)\n",
    "cv_result = lightgbm.cv(params,lgtrain,1000,early_stopping_rounds=100,stratified=True,nfold=3)"
   ]
  },
  {
   "cell_type": "code",
   "execution_count": 9,
   "metadata": {},
   "outputs": [
    {
     "data": {
      "text/plain": [
       "0.9476619942053158"
      ]
     },
     "execution_count": 9,
     "metadata": {},
     "output_type": "execute_result"
    }
   ],
   "source": [
    "cv_result['auc-mean'][-1]"
   ]
  },
  {
   "cell_type": "code",
   "execution_count": 10,
   "metadata": {},
   "outputs": [],
   "source": [
    "def lgb_eval(num_leaves,max_depth,lambda_l2,lambda_l1,min_child_samples, min_data_in_leaf):\n",
    "    params = {\n",
    "        \"objective\" : \"binary\",\n",
    "        \"metric\" : \"auc\", \n",
    "        'is_unbalance': True,\n",
    "        \"num_leaves\" : int(num_leaves),\n",
    "        \"max_depth\" : int(max_depth),\n",
    "        \"lambda_l2\" : lambda_l2,\n",
    "        \"lambda_l1\" : lambda_l1,\n",
    "        \"num_threads\" : 20,\n",
    "        \"min_child_samples\" : int(min_child_samples),\n",
    "        'min_data_in_leaf': int(min_data_in_leaf),\n",
    "        \"learning_rate\" : 0.03,\n",
    "        \"subsample_freq\" : 5,\n",
    "        \"bagging_seed\" : 42,\n",
    "        \"verbosity\" : -1\n",
    "    }\n",
    "    lgtrain = lightgbm.Dataset(X_train, y_train,categorical_feature=['arrival_date_month_number'])\n",
    "    cv_result = lightgbm.cv(params,\n",
    "                       lgtrain,\n",
    "                       1000,\n",
    "                       early_stopping_rounds=100,\n",
    "                       stratified=True,\n",
    "                       nfold=3)\n",
    "    return cv_result['auc-mean'][-1]"
   ]
  },
  {
   "cell_type": "code",
   "execution_count": 11,
   "metadata": {},
   "outputs": [
    {
     "name": "stdout",
     "output_type": "stream",
     "text": [
      "|   iter    |  target   | lambda_l1 | lambda_l2 | max_depth | min_ch... | min_da... | num_le... |\n",
      "-------------------------------------------------------------------------------------------------\n",
      "| \u001b[0m 1       \u001b[0m | \u001b[0m 0.9356  \u001b[0m | \u001b[0m 0.001903\u001b[0m | \u001b[0m 0.01707 \u001b[0m | \u001b[0m 52.64   \u001b[0m | \u001b[0m 2.966e+0\u001b[0m | \u001b[0m 1.238e+0\u001b[0m | \u001b[0m 174.6   \u001b[0m |\n",
      "| \u001b[0m 2       \u001b[0m | \u001b[0m 0.9312  \u001b[0m | \u001b[0m 0.036   \u001b[0m | \u001b[0m 0.04886 \u001b[0m | \u001b[0m 32.71   \u001b[0m | \u001b[0m 5.475e+0\u001b[0m | \u001b[0m 1.925e+0\u001b[0m | \u001b[0m 461.1   \u001b[0m |\n",
      "| \u001b[0m 3       \u001b[0m | \u001b[0m 0.9311  \u001b[0m | \u001b[0m 0.003192\u001b[0m | \u001b[0m 0.04403 \u001b[0m | \u001b[0m 41.0    \u001b[0m | \u001b[0m 176.7   \u001b[0m | \u001b[0m 1.954e+0\u001b[0m | \u001b[0m 3.898e+0\u001b[0m |\n",
      "| \u001b[95m 4       \u001b[0m | \u001b[95m 0.9422  \u001b[0m | \u001b[95m 0.009092\u001b[0m | \u001b[95m 0.008943\u001b[0m | \u001b[95m 48.08   \u001b[0m | \u001b[95m 800.6   \u001b[0m | \u001b[95m 493.9   \u001b[0m | \u001b[95m 115.3   \u001b[0m |\n",
      "| \u001b[0m 5       \u001b[0m | \u001b[0m 0.9239  \u001b[0m | \u001b[0m 0.01466 \u001b[0m | \u001b[0m 0.0326  \u001b[0m | \u001b[0m 5.005   \u001b[0m | \u001b[0m 9.152e+0\u001b[0m | \u001b[0m 1.987e+0\u001b[0m | \u001b[0m 3.626e+0\u001b[0m |\n",
      "| \u001b[0m 6       \u001b[0m | \u001b[0m 0.9421  \u001b[0m | \u001b[0m 0.003878\u001b[0m | \u001b[0m 0.000102\u001b[0m | \u001b[0m 17.12   \u001b[0m | \u001b[0m 9.999e+0\u001b[0m | \u001b[0m 272.9   \u001b[0m | \u001b[0m 80.59   \u001b[0m |\n",
      "| \u001b[95m 7       \u001b[0m | \u001b[95m 0.9453  \u001b[0m | \u001b[95m 0.04685 \u001b[0m | \u001b[95m 0.009333\u001b[0m | \u001b[95m 50.2    \u001b[0m | \u001b[95m 2.594e+0\u001b[0m | \u001b[95m 110.5   \u001b[0m | \u001b[95m 3.979e+0\u001b[0m |\n",
      "| \u001b[0m 8       \u001b[0m | \u001b[0m 0.9449  \u001b[0m | \u001b[0m 0.03228 \u001b[0m | \u001b[0m 0.02768 \u001b[0m | \u001b[0m 33.31   \u001b[0m | \u001b[0m 208.0   \u001b[0m | \u001b[0m 168.1   \u001b[0m | \u001b[0m 3.963e+0\u001b[0m |\n",
      "| \u001b[0m 9       \u001b[0m | \u001b[0m 0.9381  \u001b[0m | \u001b[0m 0.02343 \u001b[0m | \u001b[0m 0.03919 \u001b[0m | \u001b[0m 12.85   \u001b[0m | \u001b[0m 1.439e+0\u001b[0m | \u001b[0m 550.1   \u001b[0m | \u001b[0m 3.342e+0\u001b[0m |\n",
      "| \u001b[95m 10      \u001b[0m | \u001b[95m 0.9457  \u001b[0m | \u001b[95m 0.03037 \u001b[0m | \u001b[95m 0.005971\u001b[0m | \u001b[95m 58.86   \u001b[0m | \u001b[95m 4.398e+0\u001b[0m | \u001b[95m 107.0   \u001b[0m | \u001b[95m 227.9   \u001b[0m |\n",
      "| \u001b[0m 11      \u001b[0m | \u001b[0m 0.9452  \u001b[0m | \u001b[0m 0.03533 \u001b[0m | \u001b[0m 0.000236\u001b[0m | \u001b[0m 62.65   \u001b[0m | \u001b[0m 6.155e+0\u001b[0m | \u001b[0m 144.8   \u001b[0m | \u001b[0m 215.2   \u001b[0m |\n",
      "| \u001b[0m 12      \u001b[0m | \u001b[0m 0.9436  \u001b[0m | \u001b[0m 0.04008 \u001b[0m | \u001b[0m 0.03283 \u001b[0m | \u001b[0m 48.23   \u001b[0m | \u001b[0m 539.3   \u001b[0m | \u001b[0m 106.9   \u001b[0m | \u001b[0m 60.69   \u001b[0m |\n",
      "=================================================================================================\n"
     ]
    }
   ],
   "source": [
    "lgbBO = BayesianOptimization(lgb_eval, {'num_leaves': (25, 4000),\n",
    "                                                'max_depth': (5, 63),\n",
    "                                                'lambda_l2': (0.0, 0.05),\n",
    "                                                'lambda_l1': (0.0, 0.05),\n",
    "                                                'min_child_samples': (50, 10000),\n",
    "                                                'min_data_in_leaf': (100, 2000)\n",
    "                                                })\n",
    "\n",
    "lgbBO.maximize(n_iter=10, init_points=2)"
   ]
  },
  {
   "cell_type": "code",
   "execution_count": 12,
   "metadata": {},
   "outputs": [
    {
     "data": {
      "text/plain": [
       "{'target': 0.9456518674541451,\n",
       " 'params': {'lambda_l1': 0.030374081987085574,\n",
       "  'lambda_l2': 0.005970794054396023,\n",
       "  'max_depth': 58.85872349081964,\n",
       "  'min_child_samples': 4398.153571455058,\n",
       "  'min_data_in_leaf': 106.99593797723192,\n",
       "  'num_leaves': 227.8585615984081}}"
      ]
     },
     "execution_count": 12,
     "metadata": {},
     "output_type": "execute_result"
    }
   ],
   "source": [
    "lgbBO.max"
   ]
  },
  {
   "cell_type": "markdown",
   "metadata": {},
   "source": [
    "### Final Model and Analysis"
   ]
  },
  {
   "cell_type": "markdown",
   "metadata": {},
   "source": [
    "Build the model with the best parameters"
   ]
  },
  {
   "cell_type": "code",
   "execution_count": 13,
   "metadata": {},
   "outputs": [],
   "source": [
    "params= {'lambda_l1': 0.030374081987085574,\n",
    "         'lambda_l2': 0.005970794054396023,\n",
    "         'max_depth': 59,\n",
    "         'min_child_samples': 4398,\n",
    "         'min_data_in_leaf': 107,\n",
    "         'num_leaves': 228}\n",
    "params['metric'] = 'auc'"
   ]
  },
  {
   "cell_type": "code",
   "execution_count": 14,
   "metadata": {},
   "outputs": [],
   "source": [
    "lgtrain = lightgbm.Dataset(X_train, y_train)\n",
    "lgbm = lightgbm.train(params,\n",
    "                 lgtrain,\n",
    "                 280,\n",
    "                 #early_stopping_rounds= 40,\n",
    "                 verbose_eval= 4\n",
    "                 )"
   ]
  },
  {
   "cell_type": "code",
   "execution_count": 15,
   "metadata": {},
   "outputs": [],
   "source": [
    "predictions_lgbm_prob = lgbm.predict(X_test)"
   ]
  },
  {
   "cell_type": "code",
   "execution_count": 17,
   "metadata": {},
   "outputs": [],
   "source": [
    "# Set threshold to be 0.7, if probability larger than 0.7, then cancelled\n",
    "predictions_lgbm_01 = np.where(predictions_lgbm_prob > 0.7, 1, 0)"
   ]
  },
  {
   "cell_type": "markdown",
   "metadata": {},
   "source": [
    "#### Feature importance"
   ]
  },
  {
   "cell_type": "code",
   "execution_count": 19,
   "metadata": {},
   "outputs": [
    {
     "data": {
      "text/plain": [
       "<matplotlib.axes._subplots.AxesSubplot at 0x17c815fe648>"
      ]
     },
     "execution_count": 19,
     "metadata": {},
     "output_type": "execute_result"
    },
    {
     "data": {
      "image/png": "[encoded data removed]",
      "text/plain": [
       "<Figure size 432x288 with 1 Axes>"
      ]
     },
     "metadata": {
      "needs_background": "light"
     },
     "output_type": "display_data"
    }
   ],
   "source": [
    "lightgbm.plot_importance(lgbm, max_num_features=21, importance_type='split')"
   ]
  },
  {
   "cell_type": "markdown",
   "metadata": {},
   "source": [
    "#### AUC and ROC curve"
   ]
  },
  {
   "cell_type": "code",
   "execution_count": 22,
   "metadata": {},
   "outputs": [
    {
     "data": {
      "image/png": "[encoded data removed]",
      "text/plain": [
       "<Figure size 432x288 with 1 Axes>"
      ]
     },
     "metadata": {
      "needs_background": "light"
     },
     "output_type": "display_data"
    },
    {
     "name": "stdout",
     "output_type": "stream",
     "text": [
      "AUC score: 0.9473750746065689\n"
     ]
    }
   ],
   "source": [
    "#Print Area Under Curve\n",
    "plt.figure()\n",
    "false_positive_rate, recall, thresholds = roc_curve(y_test, predictions_lgbm_prob)\n",
    "roc_auc = auc(false_positive_rate, recall)\n",
    "plt.title('Receiver Operating Characteristic (ROC)')\n",
    "plt.plot(false_positive_rate, recall, 'b', label = 'AUC = %0.3f' %roc_auc)\n",
    "plt.legend(loc='lower right')\n",
    "plt.plot([0,1], [0,1], 'r--')\n",
    "plt.xlim([0.0,1.0])\n",
    "plt.ylim([0.0,1.0])\n",
    "plt.ylabel('Recall')\n",
    "plt.xlabel('Fall-out (1-Specificity)')\n",
    "plt.show()\n",
    "\n",
    "print('AUC score:', roc_auc)"
   ]
  },
  {
   "cell_type": "code",
   "execution_count": 31,
   "metadata": {},
   "outputs": [
    {
     "data": {
      "text/plain": [
       "<Figure size 432x288 with 0 Axes>"
      ]
     },
     "metadata": {},
     "output_type": "display_data"
    },
    {
     "data": {
      "image/png": "[encoded data removed]",
      "text/plain": [
       "<Figure size 576x432 with 2 Axes>"
      ]
     },
     "metadata": {
      "needs_background": "light"
     },
     "output_type": "display_data"
    }
   ],
   "source": [
    "#Print Confusion Matrix\n",
    "plt.figure()\n",
    "cm = confusion_matrix(y_test, predictions_lgbm_01,normalize='true')\n",
    "labels = ['0', '1']\n",
    "plt.figure(figsize=(8,6))\n",
    "sns.heatmap(cm, xticklabels = labels, yticklabels = labels, annot = True, cmap=\"Blues\", vmin = 0.2);\n",
    "plt.title('Confusion Matrix')\n",
    "plt.ylabel('True Class')\n",
    "plt.xlabel('Predicted Class')\n",
    "plt.show()"
   ]
  },
  {
   "cell_type": "code",
   "execution_count": 38,
   "metadata": {},
   "outputs": [
    {
     "name": "stdout",
     "output_type": "stream",
     "text": [
      "accuracy_score:  0.8539971478902777\n",
      "precision_score:  0.9430516353976424\n"
     ]
    }
   ],
   "source": [
    "print('accuracy_score: ',accuracy_score(y_test, predictions_lgbm_01))\n",
    "print('precision_score: ', precision_score(y_test, predictions_lgbm_01))"
   ]
  },
  {
   "cell_type": "code",
   "execution_count": 39,
   "metadata": {},
   "outputs": [
    {
     "name": "stdout",
     "output_type": "stream",
     "text": [
      "Classification Report\n",
      "              precision    recall  f1-score   support\n",
      "\n",
      "           0       0.82      0.98      0.89     15024\n",
      "           1       0.94      0.64      0.77      8818\n",
      "\n",
      "    accuracy                           0.85     23842\n",
      "   macro avg       0.88      0.81      0.83     23842\n",
      "weighted avg       0.87      0.85      0.85     23842\n",
      "\n"
     ]
    }
   ],
   "source": [
    "print(\"Classification Report\")\n",
    "print(classification_report(y_test, predictions_lgbm_01))"
   ]
  },
  {
   "cell_type": "markdown",
   "metadata": {},
   "source": [
    "### Conclusion"
   ]
  },
  {
   "cell_type": "markdown",
   "metadata": {},
   "source": [
    "In the Gradient Boosting model, we set the threshold to be 0.7. Any predicted probability larger than 0.7 would be labeled as canceled. \n",
    "\n",
    "This model has an accuracy of 0.85, AUC=0.94. From the confusion matrix, we can see that 64% cancellation is correctly identified. The precision is 94%, meaning that 94% of the positive prediction is correct. The precision score is pretty high. This model can help us correctly identify which orders are more likely to be canceled, so we can process certain policies to such orders. \n",
    "\n",
    "This model also tells us that the lead_time and adr have the big effects on the cancellation. We could also look into these features and see how we can improve and reduce the cancellation rate. "
   ]
  },
  {
   "cell_type": "code",
   "execution_count": null,
   "metadata": {},
   "outputs": [],
   "source": []
  }
 ],
 "metadata": {
  "kernelspec": {
   "display_name": "Python 3",
   "language": "python",
   "name": "python3"
  },
  "language_info": {
   "codemirror_mode": {
    "name": "ipython",
    "version": 3
   },
   "file_extension": ".py",
   "mimetype": "text/x-python",
   "name": "python",
   "nbconvert_exporter": "python",
   "pygments_lexer": "ipython3",
   "version": "3.7.6"
  }
 },
 "nbformat": 4,
 "nbformat_minor": 4
}
